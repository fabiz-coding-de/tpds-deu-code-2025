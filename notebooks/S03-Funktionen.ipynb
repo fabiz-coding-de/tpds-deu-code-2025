{
 "cells": [
  {
   "cell_type": "markdown",
   "id": "4fa279cc-6b22-49c2-acaf-499657099e1e",
   "metadata": {},
   "source": [
    "## Seminaraufgabe 3. Benutzerdefinierte Funktionen"
   ]
  },
  {
   "cell_type": "markdown",
   "id": "2aa5fc8d-5540-4725-883a-3c5c8ce746e0",
   "metadata": {},
   "source": [
    "## Übung 1: BMI-Funktion\n",
    "\n",
    "Eine Funktion für die BMI Berechnung definieren und mit über die Tastatur eingegebene Argumente, aufrufen.\n",
    "\n",
    "Die BMI-Kennzahl wird berechnet nach der Formel:\n",
    "\n",
    "$$\n",
    "BMI=\\frac{Körpergewicht}{Körpergröße^2}\n",
    "$$"
   ]
  },
  {
   "cell_type": "code",
   "execution_count": null,
   "id": "78fb5a58-a589-49e4-9ce0-77968a469739",
   "metadata": {},
   "outputs": [],
   "source": [
    "# Die Funktion hier definieren\n",
    "..."
   ]
  },
  {
   "cell_type": "code",
   "execution_count": null,
   "id": "f9427703-59bc-441f-97c9-9ef5ae07660b",
   "metadata": {},
   "outputs": [],
   "source": [
    "# Werte Eingeben, die Funktion aufrufen\n",
    "..."
   ]
  },
  {
   "cell_type": "markdown",
   "id": "d80ffa96-cdbe-4dc4-964b-b1602d9f4a60",
   "metadata": {},
   "source": [
    "## Übung 2: Die Fakultät einer Zahl\n",
    "Eine Funktion für die Berechnung von n! (N Fakultät) definieren.\n",
    "Die Funktion soll, als Parameter, eine positive Ganzzahl n haben.\n",
    "\n",
    "$$\n",
    "n!=1\\cdot2\\cdot3\\cdot ... \\cdot n\n",
    "$$\n",
    "\n",
    "Dann, die Funktion für alle Werte n, von 1 bis 20, aufrufen, und die Ergebnisse in eine Liste speichern."
   ]
  },
  {
   "cell_type": "code",
   "execution_count": null,
   "id": "f8e55cc7-b713-4751-8482-ac85ffee15b8",
   "metadata": {},
   "outputs": [],
   "source": [
    "# Die Funktion hier definieren\n",
    "..."
   ]
  },
  {
   "cell_type": "code",
   "execution_count": null,
   "id": "8ec64498-66a2-4ca3-9ee6-b68d2df7fa65",
   "metadata": {},
   "outputs": [],
   "source": [
    "# Funktion für n von 1 bis 20 aufrufen, in Liste speichern\n",
    "...\n",
    "\n",
    "# Die Liste ausgeben "
   ]
  },
  {
   "cell_type": "code",
   "execution_count": null,
   "id": "1293f98c-d613-4b8a-af12-53dd4a4a99b2",
   "metadata": {},
   "outputs": [],
   "source": []
  },
  {
   "cell_type": "markdown",
   "id": "81b6c5ce-7da9-4f6a-9dfd-a36703cd5da5",
   "metadata": {},
   "source": [
    "## Übung C3: N Fakultät, rekursiv\n",
    "\n",
    "Eine rekursive Funktion für dieselbe Aufgabe (Übung 2) codieren und testen."
   ]
  },
  {
   "cell_type": "code",
   "execution_count": null,
   "id": "819b0f78-078d-449e-b20e-41e65968272d",
   "metadata": {},
   "outputs": [],
   "source": []
  },
  {
   "cell_type": "code",
   "execution_count": null,
   "id": "1478d71c-3758-48a7-9d90-4a59db7f1930",
   "metadata": {},
   "outputs": [],
   "source": []
  }
 ],
 "metadata": {
  "kernelspec": {
   "display_name": "Python 3 (ipykernel)",
   "language": "python",
   "name": "python3"
  },
  "language_info": {
   "codemirror_mode": {
    "name": "ipython",
    "version": 3
   },
   "file_extension": ".py",
   "mimetype": "text/x-python",
   "name": "python",
   "nbconvert_exporter": "python",
   "pygments_lexer": "ipython3",
   "version": "3.11.10"
  }
 },
 "nbformat": 4,
 "nbformat_minor": 5
}
