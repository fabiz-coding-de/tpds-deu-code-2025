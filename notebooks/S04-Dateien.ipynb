{
 "cells": [
  {
   "cell_type": "markdown",
   "id": "4fa279cc-6b22-49c2-acaf-499657099e1e",
   "metadata": {},
   "source": [
    "## Seminaraufgabe 4. Dateien"
   ]
  },
  {
   "cell_type": "markdown",
   "id": "2aa5fc8d-5540-4725-883a-3c5c8ce746e0",
   "metadata": {},
   "source": [
    "## Übung 1: Daten aus Textdatei lesen\n",
    "\n",
    "Schreiben Sie ein Programm, um den Text einer Erzählung aus der Datei `pfannkuchen.txt` zu lesen und zu bearbeiten (als Vorbereitung für TTS-Ausgabe / Text-To-Speech).<br>\n",
    "\n",
    "a. Die Erzählung aus der Datei, Zeile für Zeile lesen und auf dem Bildschirm ausgeben.\n",
    "\n",
    "_Hinweis:_ zum Testen kann man die Datei in Kurzform anwenden (`pfannkuchen-kurz-1.txt` oder `...-2.txt`) \n",
    "       \n",
    "b. Den Text für TTS vorbereiten: die Sätze kontinuierlich ausgeben (ohne Newline in der Mitte).\n",
    "\n",
    "_Hinweis:_ für Sprachausgabe in Windows soll man die `speak()`-Funktion wie unten, anwenden. Das Programm soll als Skript gespeichert werden und lokal / auf PC ausgeführt werden.\n",
    "```\n",
    "import pyttsx3\n",
    "tts_engine = pyttsx3.init()\n",
    "tts_engine.setProperty('voice', 'HKEY_LOCAL_MACHINE\\SOFTWARE\\Microsoft\\Speech\\Voices\\Tokens\\TTS_MS_DE-DE_HEDDA_11.0')\n",
    "\n",
    "def speak(text):\n",
    "    tts_engine.say(text)\n",
    "    tts_engine.runAndWait()\n",
    "\n",
    "# ...Programm... #\n",
    "\n",
    "tts_engine.stop()\n",
    "```"
   ]
  },
  {
   "cell_type": "code",
   "execution_count": null,
   "id": "78fb5a58-a589-49e4-9ce0-77968a469739",
   "metadata": {},
   "outputs": [],
   "source": [
    "# Lösung hier codieren:\n",
    "# a.\n",
    "\n"
   ]
  },
  {
   "cell_type": "markdown",
   "id": "8e5890ab-c59b-4b4c-a877-8e0fd9e98e7b",
   "metadata": {},
   "source": [
    "b.  ... in eine neue Textdatei, für künftige Verwendung (etwa Sprachausgabe / Text-to-speech (TTS)), speichern (z.B. unter `pfannkuchen-b.txt`)"
   ]
  },
  {
   "cell_type": "code",
   "execution_count": null,
   "id": "49a9591c-f424-477e-8bca-c89900f41749",
   "metadata": {},
   "outputs": [],
   "source": [
    "# Lösung hier codieren:\n",
    "# b.\n"
   ]
  },
  {
   "cell_type": "markdown",
   "id": "d80ffa96-cdbe-4dc4-964b-b1602d9f4a60",
   "metadata": {},
   "source": [
    "## Übung 2: Durchschnittliche Spam-Wahrscheinlichkeit\n",
    "\n",
    "_(Python für alle, Kap. 7, Übung 2)_\n",
    "\n",
    "Schreiben Sie ein Programm, das nach einem Dateinamen fragt, und iterieren Sie dann durch die Datei und sucht nach Zeilen der Form:\n",
    "\n",
    "`X-DSPAM-Confidence: 0.8475`\n",
    " \n",
    "Wenn Sie auf eine Zeile stoßen, die mit X-DSPAM-Confidence: beginnt, trennen  Sie die Zeile auf, um die Fließkommazahl in der Zeile zu extrahieren. Zählen Sie  diese Zeilen und berechnen Sie dann die Summe der Werte aus diesen Zeilen. Wenn  Sie das Ende der Datei erreichen, geben Sie den Durchschnittswert aus.\n",
    "\n",
    "```\n",
    " Gib eine Datei an: mbox.txt\n",
    " Wahrscheinlichkeit fuer Kein-Spam: 0.894128046745\n",
    " \n",
    " Gib eine Datei an: mbox-short.txt\n",
    " Wahrscheinlichkeit fuer Kein-Spam: 0.750718518519\n",
    "```"
   ]
  },
  {
   "cell_type": "code",
   "execution_count": null,
   "id": "035745fb-e6bc-402d-9f35-cde0a2e39b4d",
   "metadata": {},
   "outputs": [],
   "source": [
    "# Falls die mbox*.txt Dateien nicht im Folder sind, führe diese Zelle aus,\n",
    "# um sie zu herunterladen:\n",
    "# (Code für Jupyter in cloud / lokal MacOS / Linux)\n",
    "!wget \"https://github.com/fh-swf-hgi/py4e/blob/master/code3/mbox.txt\"\n",
    "!wget \"https://github.com/fh-swf-hgi/py4e/blob/master/code3/mbox-short.txt\""
   ]
  },
  {
   "cell_type": "code",
   "execution_count": null,
   "id": "3880b8ab-6c8d-46e2-bc96-b7bdb43ee855",
   "metadata": {},
   "outputs": [],
   "source": [
    "# Falls die mbox*.txt Dateien nicht im Folder sind, führe diese Zelle aus,\n",
    "# um sie zu herunterladen:\n",
    "# (Code für Python lokal in Windows installiert:)\n",
    "!curl \"https://github.com/fh-swf-hgi/py4e/blob/master/code3/mbox.txt\" -o mbox.txt\n",
    "!curl \"https://github.com/fh-swf-hgi/py4e/blob/master/code3/mbox-short.txt\" -o mbox-short.txt"
   ]
  },
  {
   "cell_type": "code",
   "execution_count": null,
   "id": "f8e55cc7-b713-4751-8482-ac85ffee15b8",
   "metadata": {},
   "outputs": [],
   "source": [
    "# Das Programm hier codieren\n"
   ]
  },
  {
   "cell_type": "code",
   "execution_count": null,
   "id": "22815ece-9d93-49fb-883b-ed3d6e2ce0cd",
   "metadata": {},
   "outputs": [],
   "source": []
  }
 ],
 "metadata": {
  "kernelspec": {
   "display_name": "Python 3 (ipykernel)",
   "language": "python",
   "name": "python3"
  },
  "language_info": {
   "codemirror_mode": {
    "name": "ipython",
    "version": 3
   },
   "file_extension": ".py",
   "mimetype": "text/x-python",
   "name": "python",
   "nbconvert_exporter": "python",
   "pygments_lexer": "ipython3",
   "version": "3.11.10"
  }
 },
 "nbformat": 4,
 "nbformat_minor": 5
}
