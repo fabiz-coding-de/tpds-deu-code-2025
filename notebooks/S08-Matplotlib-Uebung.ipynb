{
 "cells": [
  {
   "cell_type": "markdown",
   "id": "a95cd0c0-31f8-42a3-beb7-d515187bb6e0",
   "metadata": {
    "tags": []
   },
   "source": [
    "# Diagramme mit Matplotlib - Übungen"
   ]
  },
  {
   "cell_type": "markdown",
   "id": "e80da5bb-bdd5-467a-88c5-060085d2ddfd",
   "metadata": {},
   "source": [
    "## 0. Matplotlib importieren"
   ]
  },
  {
   "cell_type": "code",
   "execution_count": null,
   "id": "01f8c116-c25f-448b-87a4-a53345081436",
   "metadata": {},
   "outputs": [],
   "source": [
    "%matplotlib inline\n",
    "# Matplotlib (Pyplot) importieren\n",
    "\n",
    "# Numpy importieren\n"
   ]
  },
  {
   "cell_type": "markdown",
   "id": "b7249085-b8c2-4630-8c9b-703a376e57ad",
   "metadata": {},
   "source": [
    "## 1. Liniendiagramm, Funktionsdiagramm"
   ]
  },
  {
   "cell_type": "markdown",
   "id": "ba851d9c-c448-454f-afd9-064b68cf8326",
   "metadata": {},
   "source": [
    "Die folgenden Numpy Arrays enthalten die Daten über das BIP Rumäniens pro Quartal _(trimestru)_ in Mio. Lei (RON):\n",
    "\n",
    "`datum` - Endedatum des jeweiligen Quartals\n",
    "\n",
    "`bip` - BIP pro Quartal "
   ]
  },
  {
   "cell_type": "code",
   "execution_count": null,
   "id": "7d7e51fc-3af7-4be1-943f-7f1f992cb8ed",
   "metadata": {},
   "outputs": [],
   "source": [
    "import pandas as pd\n",
    "df = pd.read_csv('PIB-Romania.csv', parse_dates=['Date'])\n",
    "# quartal = df['Jahr.Q'].values\n",
    "datum = df['Date'].values\n",
    "bip = df['BIP-Q'].values\n",
    "print(datum, datum.dtype)\n",
    "print(bip, bip.dtype)"
   ]
  },
  {
   "cell_type": "markdown",
   "id": "3fbd484e-5a01-4289-a610-b3e8236ac376",
   "metadata": {},
   "source": [
    "**Übung 1:** Erstelle ein Liniendiagramm der BIP Entwiclung."
   ]
  },
  {
   "cell_type": "code",
   "execution_count": null,
   "id": "485d955e-a786-4e66-b296-e351fbb4c80d",
   "metadata": {},
   "outputs": [],
   "source": [
    "# Lösung:\n"
   ]
  },
  {
   "cell_type": "markdown",
   "id": "c7b41699-d9b1-4b89-825b-05ecdb6abe12",
   "metadata": {},
   "source": [
    "### Funktionsdiagramme - Beispiel"
   ]
  },
  {
   "cell_type": "code",
   "execution_count": null,
   "id": "fe5fcd99-3f8b-4c1d-8698-d24de5338175",
   "metadata": {
    "tags": []
   },
   "outputs": [],
   "source": [
    "# Graphische Darstellung von Funktionen\n",
    "# y1 = 0.5 x - 1\n",
    "# y2 = sin(x)\n",
    "\n",
    "x = np.linspace(-5, 5, 101) # generiert äquidistante Werten für x\n",
    "y1 = 0.5*x - 1\n",
    "y2 = np.sin(x)"
   ]
  },
  {
   "cell_type": "code",
   "execution_count": null,
   "id": "e4d9c30a-6fac-49be-b1e4-668ff43fc846",
   "metadata": {},
   "outputs": [],
   "source": [
    "# Diagramm erstellen:\n",
    "plt.plot(x, y1)\n",
    "plt.show()"
   ]
  },
  {
   "cell_type": "code",
   "execution_count": null,
   "id": "741cd340-dc33-418c-8308-f20df22bf4a0",
   "metadata": {},
   "outputs": [],
   "source": [
    "plt.plot(x, y2)\n",
    "plt.show()"
   ]
  },
  {
   "cell_type": "code",
   "execution_count": null,
   "id": "eb8afc14-ba35-41b8-8a8d-5b7f567b3ff2",
   "metadata": {},
   "outputs": [],
   "source": [
    "# Kombinierte Darstellung im selben Diagramm:\n",
    "plt.plot(x, y1)\n",
    "plt.plot(x, y2)\n",
    "plt.show()"
   ]
  },
  {
   "cell_type": "markdown",
   "id": "f3f5f5cc-a275-4027-b127-5828e3cdf977",
   "metadata": {},
   "source": [
    "### Funktionsdiagramme - Übung"
   ]
  },
  {
   "cell_type": "markdown",
   "id": "b2897ed8-96b1-431c-bbe1-b3e4e5e88ff7",
   "metadata": {},
   "source": [
    "__Übung 2:__ Die folgenden Funktionen in einem Diagramm darstellen, für $x\\in[-10, 10]$:\n",
    "\n",
    "$ f_1(x) = y_1 = 5 - 2*x $\n",
    "\n",
    "$ f_2(x) = y_2 = x^2-x-7 $"
   ]
  },
  {
   "cell_type": "code",
   "execution_count": null,
   "id": "98e82bf4-45e1-4159-a4b3-2ed6ee90fabe",
   "metadata": {
    "tags": []
   },
   "outputs": [],
   "source": [
    "# Lösung:\n",
    "x = ...\n",
    "y1 = ...\n",
    "y2 = ...\n",
    "\n",
    "..."
   ]
  },
  {
   "cell_type": "markdown",
   "id": "9517257c-d215-46b1-ad98-56070a0b1207",
   "metadata": {},
   "source": [
    "## 2. Streudiagramm (Korrelationsdiagramm), Histogramm"
   ]
  },
  {
   "cell_type": "markdown",
   "id": "8f253c29-fcb0-411c-bc60-952362b123e5",
   "metadata": {},
   "source": [
    "Die folfgenden Daten von 1015 Baseball-Spieler werden aus der Datei `baseball.csv` geladen, dann als Numpy Arrays gespeichert:\n",
    "\n",
    "`weight` - Gewicht (lb / Pfund)\n",
    "\n",
    "`height` - Körpergrösse (inch)"
   ]
  },
  {
   "cell_type": "code",
   "execution_count": null,
   "id": "417fe6d4-840a-458f-9a13-99ec2466e7fb",
   "metadata": {},
   "outputs": [],
   "source": [
    "import pandas as pd\n",
    "df = pd.read_csv('baseball.csv')\n",
    "height = df['Height'].values\n",
    "weight = df['Weight'].values\n",
    "print(df.head())"
   ]
  },
  {
   "cell_type": "markdown",
   "id": "ca842f50-9d27-4527-9478-bd186cbe84ad",
   "metadata": {},
   "source": [
    "**Übung 3:** Ein Streudiagramm erstellen, mit Grösse auf der Abszisse (oX) und Gewicht auf der Ordinate (oY).\n",
    "Was kann man bemerken ?"
   ]
  },
  {
   "cell_type": "code",
   "execution_count": null,
   "id": "306c7470-ef41-494e-bbf8-57b00da34804",
   "metadata": {},
   "outputs": [],
   "source": [
    "# Scatterplot\n",
    "..."
   ]
  },
  {
   "cell_type": "markdown",
   "id": "950887b7-fa2c-44bf-a726-52108701b860",
   "metadata": {},
   "source": [
    "**Übung 4:** Ein Histogramm für die Grösse der Spieler erstellen. Acht Intervalle (bins) konfigurieren. Was kann man bemerken ? "
   ]
  },
  {
   "cell_type": "code",
   "execution_count": null,
   "id": "5934fe8d-99b8-44f2-82b7-6d7091c639e7",
   "metadata": {},
   "outputs": [],
   "source": [
    "# Histogramm: height\n",
    "..."
   ]
  },
  {
   "cell_type": "markdown",
   "id": "187ab4e2-1f3e-457c-9adc-ea03627b45bc",
   "metadata": {},
   "source": [
    "## 3. Diagrammtitel, Achsenbeschriftungen usw."
   ]
  },
  {
   "cell_type": "markdown",
   "id": "7772b569-3e64-496c-8b51-f463480540f2",
   "metadata": {},
   "source": [
    "**Übung 5:** Das Streudiagramm (Korrelationsdiagramm, _eng. Scatterplot_) erneut, mit passenden Achsenbeschriftungen und Titel, erstellen."
   ]
  },
  {
   "cell_type": "code",
   "execution_count": null,
   "id": "98d8b677-fb83-4161-800b-6eb21f93fbea",
   "metadata": {},
   "outputs": [],
   "source": [
    "# Scatterplot\n",
    "..."
   ]
  },
  {
   "cell_type": "markdown",
   "id": "ce7b6740-1143-450c-992e-5bed5b770cda",
   "metadata": {},
   "source": [
    "**Übung 6:** Die Achsen-Intervalle (Ticks) für das BIP Diagramm ändern, so dass man die folgenden Etiketten verwendet."
   ]
  },
  {
   "cell_type": "code",
   "execution_count": null,
   "id": "f6867221-69d4-48e1-b91c-e46c098dff4b",
   "metadata": {},
   "outputs": [],
   "source": [
    "xlabels = ['21Q1', '21Q2','21Q3','21Q4','22Q1','22Q2',\n",
    "          '22Q3','22Q4','23Q1','23Q2','23Q3']\n",
    "# Lösung:\n"
   ]
  },
  {
   "cell_type": "markdown",
   "id": "87539ac4-2296-426d-82ee-d409ad49e01d",
   "metadata": {},
   "source": [
    "**Übung 7:** Eine Legende für das Funktionendiagramm hinzufügen.\n",
    "\n",
    "Hinweis: suche die nötigen Informationen im Internet, s. auch: https://matplotlib.org/ "
   ]
  },
  {
   "cell_type": "code",
   "execution_count": null,
   "id": "5bd7ca3c-4458-4679-95cb-24be2f207481",
   "metadata": {
    "tags": []
   },
   "outputs": [],
   "source": [
    "# Lösung:\n",
    "x = np.linspace(-10, 10, 101)\n",
    "y1 = ...\n",
    "y2 = ...\n"
   ]
  },
  {
   "cell_type": "code",
   "execution_count": null,
   "id": "f81b439b-5883-4fee-aec2-f47f91ed0331",
   "metadata": {},
   "outputs": [],
   "source": []
  }
 ],
 "metadata": {
  "kernelspec": {
   "display_name": "Python 3 (ipykernel)",
   "language": "python",
   "name": "python3"
  },
  "language_info": {
   "codemirror_mode": {
    "name": "ipython",
    "version": 3
   },
   "file_extension": ".py",
   "mimetype": "text/x-python",
   "name": "python",
   "nbconvert_exporter": "python",
   "pygments_lexer": "ipython3",
   "version": "3.11.10"
  }
 },
 "nbformat": 4,
 "nbformat_minor": 5
}
