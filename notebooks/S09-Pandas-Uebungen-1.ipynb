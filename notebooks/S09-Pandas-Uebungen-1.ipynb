{
 "cells": [
  {
   "cell_type": "markdown",
   "id": "276d8c33-0ce0-485a-9b7e-b2134a4d15c5",
   "metadata": {},
   "source": [
    "# Pandas - Übungen (1)"
   ]
  },
  {
   "cell_type": "code",
   "execution_count": null,
   "id": "725516a6-9b55-4da3-90d1-59e65e3f491b",
   "metadata": {},
   "outputs": [],
   "source": [
    "# pandas importieren\n"
   ]
  },
  {
   "cell_type": "markdown",
   "id": "aad2ea86-ddff-47e2-a0ac-ac4609fdc023",
   "metadata": {},
   "source": [
    "## Übung 1: Dataframes erstellen"
   ]
  },
  {
   "cell_type": "markdown",
   "id": "0ca3b971-b076-4b5c-ac3a-f477fc5b9aea",
   "metadata": {},
   "source": [
    "Die folgende Datentabelle für Lagerbestände soll bearbeitet werden:\n",
    "<table>\n",
    "    <tr> <th></th><th>ArtName</th><th>Category</th><th>Quantity</th> </tr>\n",
    "    <tr> <td>1</td><td>Daisy</td><td>Seeds</td><td>4</td> </tr>\n",
    "    <tr> <td>11</td><td>Rake</td><td>Garden tools</td><td>9</td> </tr>\n",
    "    <tr> <td>21</td><td>Insect killer</td><td>Pest control</td><td>74</td> </tr>\n",
    "</table>"
   ]
  },
  {
   "cell_type": "code",
   "execution_count": null,
   "id": "14fe5d43-4ce6-4292-a7e4-0bb808810b0b",
   "metadata": {
    "scrolled": true
   },
   "outputs": [],
   "source": [
    "# 1.a. Eine DataFrame-Variable für die Datentabelle definieren.\n",
    "# Hinweis: die Daten zuerst als Dictionary strukturieren.\n",
    "dict_inv = None\n",
    "# Eine Liste mit Artikel-Codes erstellen: 1, 11 und 21 \n",
    "art_codes = None\n",
    "# Dataframe df1 erstellen mit art_codes als index\n",
    "df1 = None\n",
    "df1"
   ]
  },
  {
   "cell_type": "code",
   "execution_count": null,
   "id": "2f32a23b-d4cf-47d5-b607-6ae6503d7c10",
   "metadata": {},
   "outputs": [],
   "source": [
    "# 1.b. Weitere Daten aus der Datei inventory.csv, in Dataframe df2 laden.\n",
    "# Die erste Spalte als index einstellen.\n",
    "df2 = None\n",
    "#df2.head()"
   ]
  },
  {
   "cell_type": "code",
   "execution_count": null,
   "id": "e517a476-9081-4cb6-a3c6-d5793dc925d5",
   "metadata": {},
   "outputs": [],
   "source": [
    "# 1.c. Dann, die zwei DataFrames kombinieren. Hinweis: verwende die pandas concat() Methode.\n",
    "df = None"
   ]
  },
  {
   "cell_type": "code",
   "execution_count": null,
   "id": "da27bf72-f69e-42cd-b0d4-a4b7bd47c426",
   "metadata": {},
   "outputs": [],
   "source": [
    "# 1.d. Die ersten 10 Zeilen anzeigen (Methode head())\n"
   ]
  },
  {
   "cell_type": "markdown",
   "id": "d7ac18b0-8b80-4a9a-ad9e-0ba1fee5050f",
   "metadata": {},
   "source": [
    "## Übung 2: Daten selektieren, .loc und .iloc"
   ]
  },
  {
   "cell_type": "code",
   "execution_count": null,
   "id": "3ce5d3e6-c454-4206-b523-e1fcdc111b55",
   "metadata": {},
   "outputs": [],
   "source": [
    "# 2.a. Selektiere die ersten 5 Zeilen\n"
   ]
  },
  {
   "cell_type": "code",
   "execution_count": null,
   "id": "8c608f08-01db-4812-bc0f-9a9287f2f385",
   "metadata": {
    "scrolled": true,
    "tags": []
   },
   "outputs": [],
   "source": [
    "# 2.b. Selektiere nur die Spalten Artkel-Name und Bestand (Menge).\n"
   ]
  },
  {
   "cell_type": "code",
   "execution_count": null,
   "id": "d7b6eebd-93a7-4b15-ab07-f818203b2147",
   "metadata": {},
   "outputs": [],
   "source": [
    "# Diese Zelle sortiert die DataFrame nach Index, durch sort_index().\n",
    "df.sort_index(inplace=True)\n",
    "df.head()"
   ]
  },
  {
   "cell_type": "code",
   "execution_count": null,
   "id": "eef1ebf6-4aa7-4b2a-97ec-5a245e8a1210",
   "metadata": {},
   "outputs": [],
   "source": [
    "# 2.c. \n",
    "# Verwende .loc um die Zeilen mit Codes (Indizes) 11 bis 13 zu selektieren (Slice).\n"
   ]
  },
  {
   "cell_type": "code",
   "execution_count": null,
   "id": "c73bd464-c218-4cfa-8701-d29576c9276e",
   "metadata": {},
   "outputs": [],
   "source": [
    "# 2.d. Verwende .loc, um nur die Spalte ArtName als Dataframe zu selektieren\n"
   ]
  },
  {
   "cell_type": "code",
   "execution_count": null,
   "id": "f6744b4a-7306-419e-857e-dd4950a45238",
   "metadata": {},
   "outputs": [],
   "source": [
    "# 2.e. Verwende .iloc um die Zeilen mit Positionen 3, 5, 7 selektieren (Slice).\n"
   ]
  },
  {
   "cell_type": "code",
   "execution_count": null,
   "id": "e87797ca-2226-4ac5-b81f-a3b9093272c4",
   "metadata": {},
   "outputs": [],
   "source": [
    "# 2.f. Verwende .iloc, um die Zeilen 3 bis 7, und die erste und letzte Spalte zu selektieren\n"
   ]
  },
  {
   "cell_type": "code",
   "execution_count": null,
   "id": "0a10f3e7-59c9-4a49-b0c8-2abdf8588075",
   "metadata": {},
   "outputs": [],
   "source": [
    "'Fertig !'"
   ]
  }
 ],
 "metadata": {
  "kernelspec": {
   "display_name": "Python 3 (ipykernel)",
   "language": "python",
   "name": "python3"
  },
  "language_info": {
   "codemirror_mode": {
    "name": "ipython",
    "version": 3
   },
   "file_extension": ".py",
   "mimetype": "text/x-python",
   "name": "python",
   "nbconvert_exporter": "python",
   "pygments_lexer": "ipython3",
   "version": "3.11.10"
  }
 },
 "nbformat": 4,
 "nbformat_minor": 5
}
