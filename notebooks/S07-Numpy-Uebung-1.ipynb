{
 "cells": [
  {
   "cell_type": "markdown",
   "id": "216eec5a-61f2-47a5-b402-7a5d5ef3fb31",
   "metadata": {},
   "source": [
    "## Numpy Übungen"
   ]
  },
  {
   "cell_type": "code",
   "execution_count": null,
   "id": "2b6e0c5b-86f8-4f8a-9f83-bc84d7e50106",
   "metadata": {},
   "outputs": [],
   "source": [
    "'''Das Numpy-Paket importieren'''\n"
   ]
  },
  {
   "cell_type": "markdown",
   "id": "f6460e65-2871-4679-ac44-ab6ae2972f17",
   "metadata": {},
   "source": [
    "### 1D-Arrays (Vektoren)"
   ]
  },
  {
   "cell_type": "code",
   "execution_count": null,
   "id": "735b2a64-b3aa-4e41-aae3-4b4bebed2b88",
   "metadata": {},
   "outputs": [],
   "source": [
    "'''Ein 1-dimensionales Array (Vektor) erstellen, mit Komponenten:\n",
    "25 12 45 37 50 14 38; dann Array ausgeben.'''\n",
    "s = None # None ersetzen"
   ]
  },
  {
   "cell_type": "code",
   "execution_count": null,
   "id": "f428c940-eeca-44f4-b9a4-aea3641e3fd0",
   "metadata": {},
   "outputs": [],
   "source": [
    "'''Array s enthält die Arbeitsstunden von 7 Arbeitern.\n",
    "Berechne den Bruttolohn in ein neues Array; der Stundensatz ist gegeben.\n",
    "Das Ergebnis ausgeben.'''\n",
    "stundensatz = 2.75\n",
    "bruttolohn = None"
   ]
  },
  {
   "cell_type": "code",
   "execution_count": null,
   "id": "3b195544-08b6-4806-8e8c-1ece4caf4726",
   "metadata": {},
   "outputs": [],
   "source": [
    "'''Das Einkommensteuer beträgt 25%.\n",
    "Berechne ein neues Array mit dem Nettolohn der 7 Arbeiter.\n",
    "Das Ergebnis ausgeben)'''\n",
    "steuer = None\n",
    "nettolohn = None"
   ]
  },
  {
   "cell_type": "code",
   "execution_count": null,
   "id": "c2252a38-d6da-4ec7-91ab-433de0ceee3a",
   "metadata": {
    "scrolled": true
   },
   "outputs": [],
   "source": [
    "'''Zeige die Nettolöhne der ersten 5 Arbeiter'''\n",
    "#..."
   ]
  },
  {
   "cell_type": "code",
   "execution_count": null,
   "id": "3651d24b-9abc-44df-8d22-075b72033f59",
   "metadata": {},
   "outputs": [],
   "source": [
    "'''Extra-Challenge: Berechne die Bruttolöhne für Überstunden \n",
    "(das 1,5-fache des Stundensatzes für Arbeitsstunden über 40 Stunden)'''\n",
    "# Hinweis: verwende die Selektion durch Bedingung / boolean indexing.\n",
    "stundensatz = 10\n",
    "bruttolohn_2 = None  #Normale Berechnung - ALLE Arbeiter\n",
    "print(bruttolohn_2)\n",
    "bruttolohn_2 = None  #Neuberechnung wenn mehr als 40 Std.-nur Arbeiter mit Überstunden \n",
    "bruttolohn_2"
   ]
  },
  {
   "cell_type": "markdown",
   "id": "a50db1c3-ed58-42a8-a22a-3c246bd4d8be",
   "metadata": {},
   "source": [
    "### 2D-Arrays (Matrizen)"
   ]
  },
  {
   "cell_type": "markdown",
   "id": "ac4ed90d-9c83-4208-a48a-1133ec94296f",
   "metadata": {},
   "source": [
    "Das folgende 2D-Array (Matrix) erstellen:\n",
    "\n",
    "$$ a = \\begin{bmatrix}\n",
    "        2 & 3 & 4\\\\\n",
    "        7 & 8 & 9\\\\\n",
    "        \\end{bmatrix} $$\n",
    "        "
   ]
  },
  {
   "cell_type": "code",
   "execution_count": null,
   "id": "16cede12-908d-45bc-90b4-c67ad48c8602",
   "metadata": {},
   "outputs": [],
   "source": [
    "a = None"
   ]
  },
  {
   "cell_type": "code",
   "execution_count": null,
   "id": "04420aba-04db-430c-a0b8-93c5bc8674d0",
   "metadata": {},
   "outputs": [],
   "source": [
    "'''Array Attribute: Datentyp der Elemente,  Anzahl der Dimensionen und\n",
    "die Form der Arrays bruttolohn und a, anzeigen und vergleichen.'''\n",
    "print(None)\n",
    "print(None)"
   ]
  },
  {
   "cell_type": "code",
   "execution_count": null,
   "id": "a713743a-5760-4478-8409-0c82597f9221",
   "metadata": {},
   "outputs": [],
   "source": [
    "'''Die erste Zeile der Matrix mit 10 multiplizieren.'''\n"
   ]
  },
  {
   "cell_type": "code",
   "execution_count": null,
   "id": "da26c128-5f35-4670-b656-9906cae30c02",
   "metadata": {},
   "outputs": [],
   "source": [
    "'''Aus Spalte 1, die Zahl 7 subtrahieren.'''\n"
   ]
  },
  {
   "cell_type": "code",
   "execution_count": null,
   "id": "d3084363-37c2-4818-9bf5-c5c5b273846d",
   "metadata": {},
   "outputs": [],
   "source": [
    "'''Das Numpy-Vektor [10, 20, 30] zu Matrix a addieren.\n",
    "Das Resultat analysieren: Wie funktioniert die Addition ?'''\n"
   ]
  },
  {
   "cell_type": "markdown",
   "id": "bf7fc07a-f8bb-4ccd-aecc-68dc5ea11c86",
   "metadata": {},
   "source": [
    "### FIFA Daten bearbeiten"
   ]
  },
  {
   "cell_type": "markdown",
   "id": "5d654861-a15a-44ec-9461-b8cd723e2ac9",
   "metadata": {},
   "source": [
    "Der FIFA Datensatz wird geladen. Die Folgenden Listen mit Daten über Fussballspieler stehen zur Verfügung:\n",
    "- `names`: die Namen der Spieler\n",
    "- `positions`: die Rolle im Team - 'GK' (goalkeeper), 'M' (midfield), 'A' (attack), 'D' (defense).\n",
    "- `ratings`: Die Rating (Bewertung) der Spieler.\n",
    "\n",
    "Die folgende Zelle ausführen."
   ]
  },
  {
   "cell_type": "code",
   "execution_count": null,
   "id": "065619ff-72a7-462b-9c3c-d35b2ef5172a",
   "metadata": {},
   "outputs": [],
   "source": [
    "import pandas as pd\n",
    "df = pd.read_csv('fifa.csv', skipinitialspace = True)\n",
    "names = df['name'].to_list()\n",
    "positions = df['position'].to_list()\n",
    "ratings = df['rating'].to_list()"
   ]
  },
  {
   "cell_type": "code",
   "execution_count": null,
   "id": "486d84a7-208f-4b09-bb10-843d5345bb92",
   "metadata": {},
   "outputs": [],
   "source": [
    "'''Numpy Arrays von diesen Listen erstellen'''\n",
    "names = None\n",
    "positions = None\n",
    "ratings = None"
   ]
  },
  {
   "cell_type": "code",
   "execution_count": null,
   "id": "9a2f1e59-2250-4bc9-9a58-4679ec6ec9db",
   "metadata": {},
   "outputs": [],
   "source": [
    "'''Wieviele Spieler gibt es im Datensatz ?'''\n"
   ]
  },
  {
   "cell_type": "code",
   "execution_count": null,
   "id": "38028e1e-433a-499c-98af-e647e7543222",
   "metadata": {},
   "outputs": [],
   "source": [
    "'''Wie heisst der Spieler auf Position 7943 ?'''\n"
   ]
  },
  {
   "cell_type": "code",
   "execution_count": null,
   "id": "f990d14e-9747-489b-9538-2f52df30a701",
   "metadata": {},
   "outputs": [],
   "source": [
    "'''Wieviel ist die höchste und niedrigste Rating ?'''\n",
    "print('Min. Rating:', None )\n",
    "print('Max. Rating:', None )"
   ]
  },
  {
   "cell_type": "code",
   "execution_count": null,
   "id": "526fdb10-fd8a-485f-affe-be2431486860",
   "metadata": {},
   "outputs": [],
   "source": [
    "'''Wieviele Spieler gibt es mit Position 'A' (Stürmer / atacant) ?'''\n"
   ]
  },
  {
   "cell_type": "code",
   "execution_count": null,
   "id": "53140616-9d48-4e1c-be5e-c86009fa9e9d",
   "metadata": {},
   "outputs": [],
   "source": [
    "'''Namen der Spieler mit rating über 90.'''\n"
   ]
  },
  {
   "cell_type": "code",
   "execution_count": null,
   "id": "2ca67ba4-7ec2-4499-8d76-158ff64666ab",
   "metadata": {},
   "outputs": [],
   "source": [
    "'''Mittelwert und Median Rating der Spieler mit Position 'GK' (Torwart) ?'''\n",
    "print(\"Mittelwert: \", None )\n",
    "print(\"Median: \", None )"
   ]
  },
  {
   "cell_type": "code",
   "execution_count": null,
   "id": "144801b6-d525-4eee-b29b-3a37e72f6bd4",
   "metadata": {},
   "outputs": [],
   "source": []
  }
 ],
 "metadata": {
  "kernelspec": {
   "display_name": "Python 3 (ipykernel)",
   "language": "python",
   "name": "python3"
  },
  "language_info": {
   "codemirror_mode": {
    "name": "ipython",
    "version": 3
   },
   "file_extension": ".py",
   "mimetype": "text/x-python",
   "name": "python",
   "nbconvert_exporter": "python",
   "pygments_lexer": "ipython3",
   "version": "3.11.10"
  }
 },
 "nbformat": 4,
 "nbformat_minor": 5
}
