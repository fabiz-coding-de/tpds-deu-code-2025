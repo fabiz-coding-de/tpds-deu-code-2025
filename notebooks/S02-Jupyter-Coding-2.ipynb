{
 "cells": [
  {
   "cell_type": "markdown",
   "id": "adeafb71-7fb5-4c61-a6c2-285d8b475965",
   "metadata": {},
   "source": [
    "# Coding in Jupyter Notebook/Lab (Teil 2)"
   ]
  },
  {
   "cell_type": "markdown",
   "id": "4362a9d7-63eb-45d1-a50e-a17bd9f0a168",
   "metadata": {},
   "source": [
    "## 4. Debugging"
   ]
  },
  {
   "cell_type": "markdown",
   "id": "05fd6ab2-b4d0-44a2-ba52-f53ee53f7f4b",
   "metadata": {},
   "source": [
    "Man kann der im Jupyter eingebauten Debugger verwenden, um die Werten der Variablen zu beobachten."
   ]
  },
  {
   "cell_type": "markdown",
   "id": "85bc1e4a-6ffc-48cc-9d3e-bbc57e6b7f0c",
   "metadata": {},
   "source": [
    "- Den Debugger aktivieren (\"Bug\"-Symbol oben rechts)\n",
    "- Das Debug-Sidebar rechts öffnen.\n",
    "\n",
    "Dann, die nächsten Zellen ausführen."
   ]
  },
  {
   "cell_type": "code",
   "execution_count": null,
   "id": "085dd909-7875-431b-a18b-1ab16eb8beb1",
   "metadata": {},
   "outputs": [],
   "source": [
    "# diese Zelle nur einmal ausführen\n",
    "a, b = 5, 1"
   ]
  },
  {
   "cell_type": "code",
   "execution_count": null,
   "id": "dd92747f-8790-4e6b-9596-cb90784af586",
   "metadata": {},
   "outputs": [],
   "source": [
    "# diese Zelle drei Mal ausführen, Werte der Variablen im Debugger folgen\n",
    "b += a\n",
    "a -= 2\n",
    "#a, b"
   ]
  },
  {
   "cell_type": "markdown",
   "id": "58b429e4-72e6-4a17-8050-742461721ecc",
   "metadata": {
    "tags": []
   },
   "source": [
    "### Übung: Variablen überwachen\n",
    "Wieviel werden `a` und `b` sein, nach der 4-ten Ausführung der oberen Zelle ? Zuerst vorhersagen, dann probieren.\n",
    "\n",
    "---"
   ]
  },
  {
   "cell_type": "markdown",
   "id": "ea23151b-e23b-439e-bae1-5623ca1cf7f6",
   "metadata": {},
   "source": [
    "Um die Ausführung in einem bestimmten Punkt zu abbrechen, kann man ein Breakpoint setzen (Click auf der Code-Zeile, links von der Zeilen-Nr.).\n",
    "\n",
    "Dann kann der Code Schritt für Schritt ausgeführt werden (Callstack, Next etc.) \n"
   ]
  },
  {
   "cell_type": "code",
   "execution_count": null,
   "id": "84825445-14dc-40cc-b833-2461d1da5cd2",
   "metadata": {},
   "outputs": [],
   "source": [
    "# Was realisiert die folgende Funktion ?\n",
    "# Die Ausführung durch Breakpoints und Debugging folgen.\n",
    "\n",
    "def myFunc(L):\n",
    "    f = False\n",
    "    i = 0\n",
    "    while not f and i < len(L): \n",
    "        f = True\n",
    "        for j in range(len(L)-i-1):\n",
    "            if L[j] > L[j+1]:\n",
    "                L[j], L[j+1] = L[j+1], L[j]\n",
    "                f = False\n",
    "        i += 1\n",
    "    return L\n",
    "\n",
    "myFunc( [5, 3, 7, 1] )"
   ]
  },
  {
   "cell_type": "markdown",
   "id": "c345644d-5d8c-48f4-8046-bfc994fb028e",
   "metadata": {},
   "source": [
    "## 5. Hilfe, Dokumentation anzeigen"
   ]
  },
  {
   "cell_type": "code",
   "execution_count": null,
   "id": "3a14a9b8-47bf-4ad0-ba19-417017213496",
   "metadata": {},
   "outputs": [],
   "source": [
    "lst = [ 'a', 'b', 'c' ]"
   ]
  },
  {
   "cell_type": "code",
   "execution_count": null,
   "id": "635f3c53-ca37-436d-bcb2-2c9cebc7bbb3",
   "metadata": {},
   "outputs": [],
   "source": [
    "# Hinweise zu den verfügbaren Methoden: am Ende nächster Zeile, Tab drücken\n",
    "lst."
   ]
  },
  {
   "cell_type": "code",
   "execution_count": null,
   "id": "55a05aa4-b9f4-444f-bebe-5bece07b6fc1",
   "metadata": {},
   "outputs": [],
   "source": [
    "# Hinweise zur Funktion (Argumente etc.): am Ende nächster Zeile, Shift+Tab drücken\n",
    "pow"
   ]
  },
  {
   "cell_type": "code",
   "execution_count": null,
   "id": "77e4d91f-021f-4daf-b038-8616e0fedb6c",
   "metadata": {},
   "outputs": [],
   "source": [
    "#Schnelle Dokumentation ausgeben:\n",
    "range?\n",
    "#oder ?range"
   ]
  },
  {
   "cell_type": "markdown",
   "id": "45128357-1913-48ec-a3f7-a6f0945c42eb",
   "metadata": {},
   "source": [
    "oder: Menü Help -> Show Contextual Help, dann Funktionsname clicken."
   ]
  },
  {
   "cell_type": "markdown",
   "id": "5b475eb3-9c8c-4eb0-809a-14e8286dc279",
   "metadata": {},
   "source": [
    "## 6. Magic Commands"
   ]
  },
  {
   "cell_type": "markdown",
   "id": "cecbb6cc-ba15-4030-9837-1cf7de3f2c69",
   "metadata": {},
   "source": [
    "\"Magic Commands\" sind Befehle in Code-Zellen, die zusätzliche Operationen ermöglichen. Sie gehören der IPython Sprache (interactive Python), eine Python-Variante.\n",
    "\n",
    "- \"Line magics\" beginnen mit `%` und wirken für eine Zeile;\n",
    "- \"Cell magics\" beginnen mit `%%` und beeinflüssen die ganze Zelle.\n",
    "\n",
    "Dokumentation:  https://ipython.readthedocs.io/en/stable/interactive/magics.html\n",
    "\n",
    "Siehe und teste die folgenden Beispiele.\n",
    "\n",
    "__Hinweis__: für Zellen mit langem Output, die Option \"Enable Scrolling for Output\" verwenden."
   ]
  },
  {
   "cell_type": "code",
   "execution_count": null,
   "id": "cdf54234-eb71-4cb1-8881-0da160a5422e",
   "metadata": {
    "scrolled": true,
    "tags": []
   },
   "outputs": [],
   "source": [
    "#kurze Referenz von IPython\n",
    "%quickref"
   ]
  },
  {
   "cell_type": "code",
   "execution_count": null,
   "id": "0f07095f-0f70-4b08-bf0f-2aa42c367f80",
   "metadata": {},
   "outputs": [],
   "source": [
    "# Liste aller verfügbaren Magic Commands:\n",
    "%lsmagic"
   ]
  },
  {
   "cell_type": "code",
   "execution_count": null,
   "id": "0cc3d38e-0fa4-483b-9553-0865062054d6",
   "metadata": {},
   "outputs": [],
   "source": [
    "# Hilfe über eine Magic Command:\n",
    "%pwd?"
   ]
  },
  {
   "cell_type": "code",
   "execution_count": null,
   "id": "7c910113-506c-4ae5-b4bd-9fc8e6be73f2",
   "metadata": {},
   "outputs": [],
   "source": [
    "%pwd"
   ]
  },
  {
   "cell_type": "markdown",
   "id": "a916449b-1b5c-49ec-81a2-03c880ea3805",
   "metadata": {},
   "source": [
    "<hr>\n",
    "Magic commands für Datei- und Folder-Operationen\n",
    "\n",
    "`pwd, cd, ls / ddir, mkdir, copy, ren ...`"
   ]
  },
  {
   "cell_type": "code",
   "execution_count": null,
   "id": "84225ea9-903a-49b5-84db-bbbf6e3ed33d",
   "metadata": {},
   "outputs": [],
   "source": [
    "%ls"
   ]
  },
  {
   "cell_type": "markdown",
   "id": "7b23a60f-6315-42c5-b372-1a5faf34ea45",
   "metadata": {},
   "source": [
    "<hr>\n",
    "Magic commands für Variablen\n",
    "\n",
    "`who, whos, who_ls, reset`"
   ]
  },
  {
   "cell_type": "code",
   "execution_count": null,
   "id": "d7430c8e-4552-4ed5-917b-4ef69e054728",
   "metadata": {},
   "outputs": [],
   "source": [
    "%whos"
   ]
  },
  {
   "cell_type": "markdown",
   "id": "5fa1c0d6-5b12-4f8c-8d08-efca83514141",
   "metadata": {},
   "source": [
    "<hr>\n",
    "Ein Python-Script (Programm) erstellen, Datei speichern unter script.py, mit dem Inhalt:\n",
    "\n",
    "`print('Hello world !')`\n",
    "\n",
    "dann das Programm ausführen mit `%run`:"
   ]
  },
  {
   "cell_type": "code",
   "execution_count": null,
   "id": "38257e8b-293d-4ada-972e-15f3b0d9abc4",
   "metadata": {},
   "outputs": [],
   "source": [
    "%run script.py"
   ]
  },
  {
   "cell_type": "markdown",
   "id": "1b63ad2f-04e4-465d-a718-c21f323a16b6",
   "metadata": {},
   "source": [
    "<hr>\n",
    "\n",
    "Laufzeit-Analyse von Code-Abschnitten mit `%%timeit`\n",
    "\n",
    "Welcher Code ist schneller ?"
   ]
  },
  {
   "cell_type": "code",
   "execution_count": null,
   "id": "77a92df5-c1f8-49df-bbf3-adc81821b4e8",
   "metadata": {
    "scrolled": true
   },
   "outputs": [],
   "source": [
    "%%timeit\n",
    "s = 0\n",
    "i = 0\n",
    "while i < 100000:\n",
    "    s = s + i\n",
    "    i = i + 1"
   ]
  },
  {
   "cell_type": "code",
   "execution_count": null,
   "id": "de5ee90b-a572-4d64-b585-fe3a4d1938e4",
   "metadata": {},
   "outputs": [],
   "source": [
    "%%timeit\n",
    "s = 0\n",
    "for i in range(100000):\n",
    "    s = s + i"
   ]
  },
  {
   "cell_type": "code",
   "execution_count": null,
   "id": "343b6b37-03e5-4264-8390-dbeac27b7d77",
   "metadata": {},
   "outputs": [],
   "source": []
  }
 ],
 "metadata": {
  "kernelspec": {
   "display_name": "Python 3 (ipykernel)",
   "language": "python",
   "name": "python3"
  },
  "language_info": {
   "codemirror_mode": {
    "name": "ipython",
    "version": 3
   },
   "file_extension": ".py",
   "mimetype": "text/x-python",
   "name": "python",
   "nbconvert_exporter": "python",
   "pygments_lexer": "ipython3",
   "version": "3.11.10"
  },
  "toc-autonumbering": false,
  "toc-showcode": false,
  "toc-showmarkdowntxt": false
 },
 "nbformat": 4,
 "nbformat_minor": 5
}
