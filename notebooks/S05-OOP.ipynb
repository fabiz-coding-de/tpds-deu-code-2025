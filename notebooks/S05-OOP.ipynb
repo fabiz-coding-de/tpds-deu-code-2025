{
 "cells": [
  {
   "cell_type": "markdown",
   "metadata": {
    "id": "iJDdyHPucEoZ"
   },
   "source": [
    "# Seminaraufgabe - OOP"
   ]
  },
  {
   "attachments": {},
   "cell_type": "markdown",
   "metadata": {
    "id": "aXPpUAwJiAMo"
   },
   "source": [
    "## Übung 1: Klasse \"Artikel\"\n",
    "\n",
    "a) Eine Klasse für die Artikeln (Waren) eines Online-Shops erstellen. Attribute für Code, Name, Einzelpreis definieren, sowie eine Methode für die Ausgabe der Artikeldaten. <br>Dann, drei Objekte dieser Klasse erstellen.\n",
    "\n",
    "b) Eine Methode hinzufügen, um den Preis um ein gegebenes Prozent zu ändern. Die Methode für die existierenden Artikeln testen."
   ]
  },
  {
   "cell_type": "code",
   "execution_count": null,
   "metadata": {
    "colab": {
     "base_uri": "https://localhost:8080/"
    },
    "id": "rcUfvBKnftAw",
    "outputId": "58fd738d-74ed-4910-9dd2-43e477a1c479"
   },
   "outputs": [],
   "source": [
    "# Code hier schreiben\n"
   ]
  },
  {
   "attachments": {},
   "cell_type": "markdown",
   "metadata": {
    "id": "A04Ziduxkgv7"
   },
   "source": [
    "## Übung 2. Klasse \"Warenkorb\"\n",
    "\n",
    "a) Eine neue Klasse für den Warenkorb wurde definiert (s. Code unten). Der Warenkorb kann mehrere Artikel-Objekte, sowie deren Mengen und Preise, enthalten. Eine Liste von Dictionarys ist für die Speicherung angewendet.<br>__Aufgabe:__ Erstelle ein Objekt (eine Instanz) dieser Klasse und füge die existierenden Artikeln hinzu.\n",
    "\n",
    "b) Definiere eine Methode, um den Gesamtwert des Warenkorbs zu berechnen, und teste diese Methode.\n",
    "\n",
    "c) Definiere eine Methode, um die Warenkorb-Daten als .CSV-Datei zu speichern, und teste diese Methode."
   ]
  },
  {
   "cell_type": "code",
   "execution_count": null,
   "metadata": {
    "colab": {
     "base_uri": "https://localhost:8080/"
    },
    "id": "o7LNcbGVkEmB",
    "outputId": "eff16991-0681-42da-9509-e24538298a02"
   },
   "outputs": [],
   "source": [
    "class Warenkorb:\n",
    "    def __init__(self):\n",
    "        self.art_liste = []\n",
    "\n",
    "    def add_artikel(self, artikel, menge):\n",
    "        eintrag = {}\n",
    "        eintrag['artikel'] = artikel\n",
    "        eintrag['menge'] = menge\n",
    "        eintrag['preis'] = artikel.art_preis * menge\n",
    "        self.art_liste.append(eintrag)\n",
    "\n",
    "    def info(self):\n",
    "        for a in self.art_liste:\n",
    "            print(f\"Artikel: {a['artikel'].art_name}, Menge: {a['menge']}, Preis: {a['preis']} EUR\")\n",
    "    # Lösung b.:\n",
    "    # ...\n",
    "\n",
    "    # Lösung c.:\n",
    "    # ...   \n",
    "\n",
    "# Lösung a.:\n",
    "# ..."
   ]
  },
  {
   "cell_type": "code",
   "execution_count": null,
   "metadata": {},
   "outputs": [],
   "source": []
  }
 ],
 "metadata": {
  "colab": {
   "provenance": [],
   "toc_visible": true
  },
  "kernelspec": {
   "display_name": "Python 3 (ipykernel)",
   "language": "python",
   "name": "python3"
  },
  "language_info": {
   "codemirror_mode": {
    "name": "ipython",
    "version": 3
   },
   "file_extension": ".py",
   "mimetype": "text/x-python",
   "name": "python",
   "nbconvert_exporter": "python",
   "pygments_lexer": "ipython3",
   "version": "3.11.10"
  }
 },
 "nbformat": 4,
 "nbformat_minor": 4
}
