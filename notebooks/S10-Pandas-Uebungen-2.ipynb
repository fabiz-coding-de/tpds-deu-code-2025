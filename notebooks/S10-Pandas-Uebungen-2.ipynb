{
 "cells": [
  {
   "cell_type": "markdown",
   "id": "276d8c33-0ce0-485a-9b7e-b2134a4d15c5",
   "metadata": {},
   "source": [
    "## Pandas - Übungen (2): Daten selektieren (filtern), Schleifen und DataFrames"
   ]
  },
  {
   "cell_type": "code",
   "execution_count": null,
   "id": "725516a6-9b55-4da3-90d1-59e65e3f491b",
   "metadata": {},
   "outputs": [],
   "source": [
    "# numpy und pandas importieren\n"
   ]
  },
  {
   "cell_type": "markdown",
   "id": "aad2ea86-ddff-47e2-a0ac-ac4609fdc023",
   "metadata": {},
   "source": [
    "## Übung 1: Zeilen selektieren (filtern)"
   ]
  },
  {
   "cell_type": "code",
   "execution_count": null,
   "id": "2f32a23b-d4cf-47d5-b607-6ae6503d7c10",
   "metadata": {},
   "outputs": [],
   "source": [
    "# 1.a Dataframe aus Datei 'inventory-all.csv' laden,\n",
    "# erste Spalte als Index anwenden\n",
    "df = None\n",
    "df.head()"
   ]
  },
  {
   "cell_type": "code",
   "execution_count": null,
   "id": "a73b8a79-3e11-4817-b63b-f591c35093b0",
   "metadata": {},
   "outputs": [],
   "source": [
    "# 1.b  Nur die Artikeln in der Kategorie \"Garden tools\" anzeigen.\n",
    "# Var.1 : zuerst die Bedingung als Series speichern:\n",
    "art_g_tools = None\n",
    "art_g_tools"
   ]
  },
  {
   "cell_type": "code",
   "execution_count": null,
   "id": "4a2267de-ba98-419c-a7c6-4f10fbe8eada",
   "metadata": {},
   "outputs": [],
   "source": [
    "# Dann die art_g_tools Variable verwenden, um die DF Zeilen zu selektieren\n"
   ]
  },
  {
   "cell_type": "code",
   "execution_count": null,
   "id": "7c907270-25c5-4e65-ae16-8fdc9632f6b3",
   "metadata": {},
   "outputs": [],
   "source": [
    "# 1.c  Nur die Artikeln in der Kategorie \"Garden tools\" anzeigen.\n",
    "# Var.2 : alles in eine Code-Zeile codieren\n"
   ]
  },
  {
   "cell_type": "code",
   "execution_count": null,
   "id": "c460f1a7-a815-4fbc-97eb-853f2eb02a8c",
   "metadata": {},
   "outputs": [],
   "source": [
    "# 1.d. Artikelname und Bestand für Artikeln mit Bestand (Menge) \n",
    "# unter 10 anzeigen (als DataFrame)\n"
   ]
  },
  {
   "cell_type": "code",
   "execution_count": null,
   "id": "3bc6714d-0881-4f8d-8216-2de1b09405c1",
   "metadata": {},
   "outputs": [],
   "source": [
    "# 1.e. Artikeln mit Menge (Quantity) über 50, die nicht\n",
    "# zur Kategorie \"Planter\" gehören.\n",
    "# Var. 1: mit np.logical... Funktionen\n"
   ]
  },
  {
   "cell_type": "code",
   "execution_count": null,
   "id": "708894f6-36f8-42e7-89e5-d5b31b6f5bb4",
   "metadata": {},
   "outputs": [],
   "source": [
    "# 1.e.Var. 2: Mit den logischen Operatoren &, |, ~\n"
   ]
  },
  {
   "cell_type": "code",
   "execution_count": null,
   "id": "ff409669-c989-49f4-9e79-477cd1744af1",
   "metadata": {},
   "outputs": [],
   "source": [
    "# 1.f. Artikelnamen für Artikeln in den Kategorien Seeds und Planter\n",
    "# Hinweis: verwende die Methode .isin() für Series\n"
   ]
  },
  {
   "cell_type": "code",
   "execution_count": null,
   "id": "eb08b16b-75a1-478c-90a0-7e68c21a79a0",
   "metadata": {},
   "outputs": [],
   "source": [
    "# 1.g. Zeilen der Artikeln, die mit 'W' beginnen, anzeigen\n",
    "# Hinweis: Series.str.startswith() verwenden\n"
   ]
  },
  {
   "cell_type": "markdown",
   "id": "2de1fb21-cab0-41b3-a124-2611dbd7923f",
   "metadata": {},
   "source": [
    "## Übung 2: Schleifen und DataFrame-Objekte"
   ]
  },
  {
   "cell_type": "code",
   "execution_count": null,
   "id": "b2895b21-0099-4a2e-b3cd-83b11800530e",
   "metadata": {},
   "outputs": [],
   "source": [
    "# Dataframe aus Datei laden\n",
    "df = pd.read_csv('inventory-all.csv', index_col=0)\n",
    "# Daten für Einzelpreise:\n",
    "einzelpreise = pd.Series([1.25,1.70,2.20,25.0,110.0,\n",
    "                          29.0,10.50, 12.90,40.0, 25.0],\n",
    "                          name='UnitPrice', index=df.index)\n",
    "einzelpreise.head()"
   ]
  },
  {
   "cell_type": "code",
   "execution_count": null,
   "id": "237efd7d-6a6f-44ff-85c3-3f38b33e84ce",
   "metadata": {},
   "outputs": [],
   "source": [
    "# 2.a. Die Daten in der Series einzelpreise als neue Spalte \n",
    "# in df hinzufügen.\n",
    "# Hinweis: verwende die pd.concat() Funktion.\n"
   ]
  },
  {
   "cell_type": "code",
   "execution_count": null,
   "id": "63018322-feab-434c-8dd3-17e6c6d24daa",
   "metadata": {},
   "outputs": [],
   "source": [
    "# 2.b Eine neue Spalte definieren:\n",
    "# Value1 = Quantity * UnitPrice\n",
    "# Var. 1: mit for-Schleife\n"
   ]
  },
  {
   "cell_type": "code",
   "execution_count": null,
   "id": "3718cf2d-b6b0-4194-a8bb-a3ce92fd02b7",
   "metadata": {},
   "outputs": [],
   "source": [
    "# 2.c Eine neue Spalte definieren:\n",
    "# Value2 = Quantity * UnitPrice\n",
    "# Var. 2: mit pandas-Syntax\n"
   ]
  },
  {
   "cell_type": "code",
   "execution_count": null,
   "id": "38338caa-2537-4b28-9067-c382fbc58fac",
   "metadata": {},
   "outputs": [],
   "source": [
    "'Fertig !'"
   ]
  },
  {
   "cell_type": "code",
   "execution_count": null,
   "id": "af4f3d91-6ef5-4ec4-b09f-7659d2353e87",
   "metadata": {},
   "outputs": [],
   "source": []
  }
 ],
 "metadata": {
  "kernelspec": {
   "display_name": "Python 3 (ipykernel)",
   "language": "python",
   "name": "python3"
  },
  "language_info": {
   "codemirror_mode": {
    "name": "ipython",
    "version": 3
   },
   "file_extension": ".py",
   "mimetype": "text/x-python",
   "name": "python",
   "nbconvert_exporter": "python",
   "pygments_lexer": "ipython3",
   "version": "3.11.10"
  }
 },
 "nbformat": 4,
 "nbformat_minor": 5
}
