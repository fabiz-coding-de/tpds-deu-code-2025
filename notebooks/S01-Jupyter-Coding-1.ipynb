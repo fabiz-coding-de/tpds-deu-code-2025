{
 "cells": [
  {
   "cell_type": "markdown",
   "id": "adeafb71-7fb5-4c61-a6c2-285d8b475965",
   "metadata": {},
   "source": [
    "# Coding in Jupyter Notebook/Lab"
   ]
  },
  {
   "cell_type": "markdown",
   "id": "55ada3d5-2288-40ec-bca0-74ca75372506",
   "metadata": {},
   "source": [
    "## 1. Zellen ausführen"
   ]
  },
  {
   "cell_type": "code",
   "execution_count": null,
   "id": "c9228377-02d2-478d-8e7a-4d1fc446fef0",
   "metadata": {},
   "outputs": [],
   "source": [
    "# Diese ist eine Code-Zelle\n",
    "# Zelle mit Shift+Enter (Play) ausführen\n",
    "a = 15\n",
    "a"
   ]
  },
  {
   "cell_type": "code",
   "execution_count": null,
   "id": "d3c68328-6fca-433d-b958-3b22f2986284",
   "metadata": {},
   "outputs": [],
   "source": [
    "b = a/2\n",
    "b "
   ]
  },
  {
   "cell_type": "markdown",
   "id": "5b57cdef-0876-45e8-9eec-3e9ec768a7f8",
   "metadata": {},
   "source": [
    "Bemerkungen:\n",
    "- Code-Zellen können ein Output haben.\n",
    "- Output ist auch ohne print() möglich.\n",
    "- die Reihenfolge der Ausführung ist in eckigen Klammern sichtbar, z.B. `[2]`"
   ]
  },
  {
   "cell_type": "markdown",
   "id": "c9fa8097-4f62-4614-996c-4eafbf7522ca",
   "metadata": {},
   "source": [
    "## 2. Output / Ausgaben anzeigen"
   ]
  },
  {
   "cell_type": "code",
   "execution_count": null,
   "id": "ee5a825d-17f3-46d4-a188-d1a21179e48f",
   "metadata": {},
   "outputs": [],
   "source": [
    "# Werte von a und b anzeigen - V.1:\n",
    "a\n",
    "b"
   ]
  },
  {
   "cell_type": "markdown",
   "id": "af05d54e-3cf7-4fb6-b870-e72941ca8699",
   "metadata": {},
   "source": [
    "Bemerkung: Jupyter \"merkt sich\" die Variablen von den Zellen, die zuvor ausgeführt worden sind."
   ]
  },
  {
   "cell_type": "markdown",
   "id": "3b02a771-0e46-47c4-9d87-5ae939fddf6a",
   "metadata": {},
   "source": [
    "Bemerkung: nur die letzte Variable wird ausgegeben !"
   ]
  },
  {
   "cell_type": "code",
   "execution_count": null,
   "id": "ce4ef9b4-f2cb-4af4-b1c6-c6539bbdbfd9",
   "metadata": {},
   "outputs": [],
   "source": [
    "# Werte von a und b anzeigen - V.2, als Tupel:\n",
    "a, b"
   ]
  },
  {
   "cell_type": "code",
   "execution_count": null,
   "id": "869f2268-145f-444e-85ec-0c321f725147",
   "metadata": {},
   "outputs": [],
   "source": [
    "# Werte von a und b anzeigen - V.3, mit print():\n",
    "print(a, b)\n",
    "print('a =',a,' b =',b)"
   ]
  },
  {
   "cell_type": "code",
   "execution_count": null,
   "id": "270fe788-6c80-488a-bd9b-7ae19e46dc64",
   "metadata": {},
   "outputs": [],
   "source": [
    "# Werte von a und b anzeigen - V.4, mit print() und f-String\n",
    "print(f\"{a=} {b=}\") #f-String mit Variablen-Namen (Debug-Option)"
   ]
  },
  {
   "cell_type": "markdown",
   "id": "28c0ebc3-294e-4868-9df5-a7ffc33da104",
   "metadata": {},
   "source": [
    "### Übung: Output\n",
    "Eine neue Code-Zelle unten hinzufügen, um die Ausdrücke zu berechnen:\n",
    "a+b, a-b, a*b \n",
    "\n",
    "Die f-String mit Debug-Option anwenden.\n",
    "Dann die Zelle ausführen."
   ]
  },
  {
   "cell_type": "code",
   "execution_count": null,
   "id": "4daae930-e4e4-4fdc-8807-f7c52090f182",
   "metadata": {},
   "outputs": [],
   "source": [
    "#Lösung:\n"
   ]
  },
  {
   "cell_type": "markdown",
   "id": "8485628f-d541-4af8-94bf-8203c1d5503c",
   "metadata": {},
   "source": [
    "## 3. Kernel\n",
    "Das Kernel ist die Komponente, die unseren Code ausführt.\n",
    "\n",
    "Siehe in der Benutzeroberfläche: Kernel, Status, Kernel-Menü, linken Sidebar - Running Kernels."
   ]
  },
  {
   "cell_type": "code",
   "execution_count": null,
   "id": "3c1624c3-5250-40c5-97da-0fec72afd5a1",
   "metadata": {
    "tags": []
   },
   "outputs": [],
   "source": [
    "# diese Zelle realisiert eine endlose Schleife;\n",
    "# - Zelle asuführen;\n",
    "# - bemerke den Kernel-Status !\n",
    "# - Ausführung unterbrechen mit der Stopp-Schaltfläche \n",
    "#   oder Menü: Kernel->Interrupt Kernel\n",
    "\n",
    "print('Working...')\n",
    "while True:\n",
    "    for i in range(1000000):\n",
    "        pass\n",
    "    print('#',end='')"
   ]
  },
  {
   "cell_type": "markdown",
   "id": "48155500-6bf2-41ef-8b63-2431add62941",
   "metadata": {},
   "source": [
    "Kernel neustarten: siehe Optionen im Kernel-Menü."
   ]
  },
  {
   "cell_type": "code",
   "execution_count": null,
   "id": "46b5c665-2c88-41e3-9143-72bffc60add8",
   "metadata": {},
   "outputs": [],
   "source": [
    "# Kernel neustarten, dann diese Zelle ausführen.\n",
    "# Wie ist der Fehler zu erklären ?\n",
    "\n",
    "print(f\"{a=} {b=}\")"
   ]
  },
  {
   "cell_type": "markdown",
   "id": "d90b9472-33ef-436c-8d40-cfc49dc50597",
   "metadata": {},
   "source": [
    "**Bemerkung:** Jupyter startet ein Kernel für jedes Notebook, das geöffnet ist. Die Kernels nehmen Computer-Ressourcen in Anspruch; deswegen soll man, am Ende der Arbeit, alle Kernels und eventuell das Jupyter-Server herunterfahren:\n",
    "- Kernel - Shut Down Kernel /\n",
    "- File - Close and Shutdown Notebook /\n",
    "- File - Shut Down"
   ]
  }
 ],
 "metadata": {
  "kernelspec": {
   "display_name": "Python 3 (ipykernel)",
   "language": "python",
   "name": "python3"
  },
  "language_info": {
   "codemirror_mode": {
    "name": "ipython",
    "version": 3
   },
   "file_extension": ".py",
   "mimetype": "text/x-python",
   "name": "python",
   "nbconvert_exporter": "python",
   "pygments_lexer": "ipython3",
   "version": "3.11.5"
  },
  "toc-autonumbering": false,
  "toc-showcode": false,
  "toc-showmarkdowntxt": false
 },
 "nbformat": 4,
 "nbformat_minor": 5
}
