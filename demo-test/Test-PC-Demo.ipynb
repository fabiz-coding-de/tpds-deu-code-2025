{
 "cells": [
  {
   "cell_type": "markdown",
   "id": "691aca78-6764-4b0e-b440-6154aee89354",
   "metadata": {},
   "source": [
    "_Technologie und Programmierung in Data Science_\n",
    "### Praktischer Test (Demo)"
   ]
  },
  {
   "cell_type": "markdown",
   "id": "2dffe7ae-2609-4b11-9d49-97e087659c6f",
   "metadata": {},
   "source": [
    "#### Aufgabe 1. (3 Punkte), Schwierigkeit: *\n",
    "\n",
    "1.a. Die nötigen Pakete / Module (für alle Übungen) importieren.\n",
    "\n",
    "1.b. Ein Numpy 1-D Array aufgrund der Liste `lst` erstellen und ausgeben.\n",
    "\n",
    "1.c. Einen Ausdruck schreiben, um 3/10 von jedem Array-Element zu berechnen.\n",
    "\n",
    "Lösungen:"
   ]
  },
  {
   "cell_type": "code",
   "execution_count": null,
   "id": "08c60416-cf3a-4dc9-a28b-a40a4aeb582e",
   "metadata": {},
   "outputs": [],
   "source": [
    "import numpy as np"
   ]
  },
  {
   "cell_type": "code",
   "execution_count": null,
   "id": "f7e0c72e-6bd0-4727-8bd4-d1caa64f01e5",
   "metadata": {},
   "outputs": [],
   "source": [
    "# 1.a.:"
   ]
  },
  {
   "cell_type": "code",
   "execution_count": null,
   "id": "ab71e0b5-e964-4496-90c0-362042c91efd",
   "metadata": {},
   "outputs": [],
   "source": [
    "lst = [47, 12, 24, 9, 3.8] \n",
    "# 1.b.:\n",
    "arr = "
   ]
  },
  {
   "cell_type": "code",
   "execution_count": null,
   "id": "2ac6394e-0088-4284-8263-aceb26e653ee",
   "metadata": {},
   "outputs": [],
   "source": [
    "# 1.c.:\n"
   ]
  },
  {
   "cell_type": "markdown",
   "id": "e0430b63-724e-4511-b8d7-3c3dcdd86243",
   "metadata": {},
   "source": [
    "#### Aufgabe 2. (4 Punkte), Schwierigkeit: **\n",
    "\n",
    "2.a. Eine Datentabelle mit Daten aus der Datei `gapminder.csv`, erstellen. Die erste Spalte als Index verwenden.\n",
    "\n",
    "2.b. Die letzten Zeilen, zur Verifizierung, ausgeben.\n",
    "\n",
    "2.c. Ausgabe: Anzahl der Zeilen und Spalten der Datentabelle.\n",
    "\n",
    "2.d. Daten selektieren: Informationen über Land (`country`) und BIP pro Kopf (`gdp_cap`), für Index-Werte von 200 bis inkl. 299.\n",
    "\n",
    "Lösungen:"
   ]
  },
  {
   "cell_type": "code",
   "execution_count": null,
   "id": "fdd69f08-177f-4178-8f9c-1cf0926a7d0a",
   "metadata": {},
   "outputs": [],
   "source": [
    "# 2.a.\n",
    "df = \n"
   ]
  },
  {
   "cell_type": "code",
   "execution_count": null,
   "id": "b91b0898-231a-4cac-b00f-ae00dcec6472",
   "metadata": {},
   "outputs": [],
   "source": [
    "# 2.b.\n"
   ]
  },
  {
   "cell_type": "code",
   "execution_count": null,
   "id": "7a7cc5da-4e8b-4e70-b34a-c42755f5f21b",
   "metadata": {},
   "outputs": [],
   "source": [
    "# 2.c.\n"
   ]
  },
  {
   "cell_type": "code",
   "execution_count": null,
   "id": "a3c7c33b-987d-4572-a58c-5a4ff45d5d8b",
   "metadata": {},
   "outputs": [],
   "source": [
    "# 2.d.\n"
   ]
  },
  {
   "cell_type": "markdown",
   "id": "a74a5409-b54f-4da1-8abe-5f2ccd95c213",
   "metadata": {},
   "source": [
    "#### Aufgabe 3. (2 Punkte), Schwierigkeit: ***\n",
    "\n",
    "3.a. In der gegebenen Matrix, das Produkt der Spaltenelemente berechnen.\n",
    "\n",
    "3.b. Ein Balkendiagramm (_horizontal bar chart_) mit den ps Daten erstellen.\n",
    "\n",
    "_Optional / Challenge_: Unterschiedliche Farben für Balken bestimmen.\n",
    "\n",
    "Lösungen:"
   ]
  },
  {
   "cell_type": "code",
   "execution_count": null,
   "id": "fc4e37fb-c849-4610-bad5-3bd63217678e",
   "metadata": {},
   "outputs": [],
   "source": [
    "# 3.a.\n",
    "mat = np.random.randint(1,10,(3,5))\n",
    "print(mat)\n",
    "ps = "
   ]
  },
  {
   "cell_type": "code",
   "execution_count": null,
   "id": "8c9db9d2-b09d-4211-bb82-11331f7d476c",
   "metadata": {},
   "outputs": [],
   "source": [
    "# 3.b.\n"
   ]
  }
 ],
 "metadata": {
  "kernelspec": {
   "display_name": "Python 3 (ipykernel)",
   "language": "python",
   "name": "python3"
  },
  "language_info": {
   "codemirror_mode": {
    "name": "ipython",
    "version": 3
   },
   "file_extension": ".py",
   "mimetype": "text/x-python",
   "name": "python",
   "nbconvert_exporter": "python",
   "pygments_lexer": "ipython3",
   "version": "3.11.10"
  }
 },
 "nbformat": 4,
 "nbformat_minor": 5
}
