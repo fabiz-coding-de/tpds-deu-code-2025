{
 "cells": [
  {
   "cell_type": "markdown",
   "id": "691aca78-6764-4b0e-b440-6154aee89354",
   "metadata": {},
   "source": [
    "_Technologie und Programmierung in Data Science_\n",
    "### Praktischer Test"
   ]
  },
  {
   "cell_type": "markdown",
   "id": "2dffe7ae-2609-4b11-9d49-97e087659c6f",
   "metadata": {},
   "source": [
    "### **Aufgabe 1. (3 Punkte)**, Schwierigkeit: *\n",
    "\n",
    "1.a. Die nötigen Pakete / Module (für alle Übungen) importieren.\n",
    "\n",
    "1.b. Ein Numpy 1-D Array aufgrund der Liste `lst` erstellen und ausgeben.\n",
    "\n",
    "1.c. Einen Ausdruck schreiben, um 3/10 von jedem Array-Element zu berechnen.\n",
    "\n",
    "Lösungen:"
   ]
  },
  {
   "cell_type": "code",
   "execution_count": 2,
   "id": "f7e0c72e-6bd0-4727-8bd4-d1caa64f01e5",
   "metadata": {},
   "outputs": [],
   "source": [
    "# 1.a.:\n",
    "import numpy as np\n",
    "import pandas as pd\n",
    "import matplotlib.pyplot as plt"
   ]
  },
  {
   "cell_type": "code",
   "execution_count": 3,
   "id": "ab71e0b5-e964-4496-90c0-362042c91efd",
   "metadata": {},
   "outputs": [
    {
     "data": {
      "text/plain": [
       "array([47. , 12. , 24. ,  9. ,  3.8])"
      ]
     },
     "execution_count": 3,
     "metadata": {},
     "output_type": "execute_result"
    }
   ],
   "source": [
    "lst = [47, 12, 24, 9, 3.8] \n",
    "# 1.b.:\n",
    "arr = np.array(lst)\n",
    "arr"
   ]
  },
  {
   "cell_type": "code",
   "execution_count": 4,
   "id": "2ac6394e-0088-4284-8263-aceb26e653ee",
   "metadata": {},
   "outputs": [
    {
     "data": {
      "text/plain": [
       "array([14.1 ,  3.6 ,  7.2 ,  2.7 ,  1.14])"
      ]
     },
     "execution_count": 4,
     "metadata": {},
     "output_type": "execute_result"
    }
   ],
   "source": [
    "# 1.c.:\n",
    "arr * (3/10)"
   ]
  },
  {
   "cell_type": "markdown",
   "id": "e0430b63-724e-4511-b8d7-3c3dcdd86243",
   "metadata": {},
   "source": [
    "**Aufgabe 2. (4 Punkte)** , Schwierigkeit: **\n",
    "\n",
    "2.a. Eine Datentabelle mit Daten aus der Datei `gapminder.csv`, erstellen. Die erste Spalte als Index verwenden.\n",
    "\n",
    "2.b. Die letzten Zeilen, zur Verifizierung, ausgeben.\n",
    "\n",
    "2.c. Ausgabe: Anzahl der Zeilen und Spalten der Datentabelle.\n",
    "\n",
    "2.d. Daten selektieren: Informationen über Land (`country`) und BIP pro Kopf (`gdp_cap`), für Index-Werte von 200 bis inkl. 299.\n",
    "\n",
    "Lösungen:"
   ]
  },
  {
   "cell_type": "code",
   "execution_count": 5,
   "id": "fdd69f08-177f-4178-8f9c-1cf0926a7d0a",
   "metadata": {},
   "outputs": [],
   "source": [
    "# 2.a.\n",
    "df = pd.read_csv('gapminder.csv', index_col=0)"
   ]
  },
  {
   "cell_type": "code",
   "execution_count": 6,
   "id": "b91b0898-231a-4cac-b00f-ae00dcec6472",
   "metadata": {},
   "outputs": [
    {
     "data": {
      "text/html": [
       "<div>\n",
       "<style scoped>\n",
       "    .dataframe tbody tr th:only-of-type {\n",
       "        vertical-align: middle;\n",
       "    }\n",
       "\n",
       "    .dataframe tbody tr th {\n",
       "        vertical-align: top;\n",
       "    }\n",
       "\n",
       "    .dataframe thead th {\n",
       "        text-align: right;\n",
       "    }\n",
       "</style>\n",
       "<table border=\"1\" class=\"dataframe\">\n",
       "  <thead>\n",
       "    <tr style=\"text-align: right;\">\n",
       "      <th></th>\n",
       "      <th>country</th>\n",
       "      <th>year</th>\n",
       "      <th>population</th>\n",
       "      <th>cont</th>\n",
       "      <th>life_exp</th>\n",
       "      <th>gdp_cap</th>\n",
       "    </tr>\n",
       "  </thead>\n",
       "  <tbody>\n",
       "    <tr>\n",
       "      <th>1655</th>\n",
       "      <td>Vietnam</td>\n",
       "      <td>2007</td>\n",
       "      <td>85262356.0</td>\n",
       "      <td>Asia</td>\n",
       "      <td>74.249</td>\n",
       "      <td>2441.576404</td>\n",
       "    </tr>\n",
       "    <tr>\n",
       "      <th>1667</th>\n",
       "      <td>West Bank and Gaza</td>\n",
       "      <td>2007</td>\n",
       "      <td>4018332.0</td>\n",
       "      <td>Asia</td>\n",
       "      <td>73.422</td>\n",
       "      <td>3025.349798</td>\n",
       "    </tr>\n",
       "    <tr>\n",
       "      <th>1679</th>\n",
       "      <td>Yemen, Rep.</td>\n",
       "      <td>2007</td>\n",
       "      <td>22211743.0</td>\n",
       "      <td>Asia</td>\n",
       "      <td>62.698</td>\n",
       "      <td>2280.769906</td>\n",
       "    </tr>\n",
       "    <tr>\n",
       "      <th>1691</th>\n",
       "      <td>Zambia</td>\n",
       "      <td>2007</td>\n",
       "      <td>11746035.0</td>\n",
       "      <td>Africa</td>\n",
       "      <td>42.384</td>\n",
       "      <td>1271.211593</td>\n",
       "    </tr>\n",
       "    <tr>\n",
       "      <th>1703</th>\n",
       "      <td>Zimbabwe</td>\n",
       "      <td>2007</td>\n",
       "      <td>12311143.0</td>\n",
       "      <td>Africa</td>\n",
       "      <td>43.487</td>\n",
       "      <td>469.709298</td>\n",
       "    </tr>\n",
       "  </tbody>\n",
       "</table>\n",
       "</div>"
      ],
      "text/plain": [
       "                 country  year  population    cont  life_exp      gdp_cap\n",
       "1655             Vietnam  2007  85262356.0    Asia    74.249  2441.576404\n",
       "1667  West Bank and Gaza  2007   4018332.0    Asia    73.422  3025.349798\n",
       "1679         Yemen, Rep.  2007  22211743.0    Asia    62.698  2280.769906\n",
       "1691              Zambia  2007  11746035.0  Africa    42.384  1271.211593\n",
       "1703            Zimbabwe  2007  12311143.0  Africa    43.487   469.709298"
      ]
     },
     "execution_count": 6,
     "metadata": {},
     "output_type": "execute_result"
    }
   ],
   "source": [
    "# 2.b.\n",
    "df.tail()"
   ]
  },
  {
   "cell_type": "code",
   "execution_count": 7,
   "id": "7a7cc5da-4e8b-4e70-b34a-c42755f5f21b",
   "metadata": {},
   "outputs": [
    {
     "data": {
      "text/plain": [
       "(142, 6)"
      ]
     },
     "execution_count": 7,
     "metadata": {},
     "output_type": "execute_result"
    }
   ],
   "source": [
    "# 2.c.\n",
    "df.shape"
   ]
  },
  {
   "cell_type": "code",
   "execution_count": 8,
   "id": "a3c7c33b-987d-4572-a58c-5a4ff45d5d8b",
   "metadata": {},
   "outputs": [
    {
     "data": {
      "text/html": [
       "<div>\n",
       "<style scoped>\n",
       "    .dataframe tbody tr th:only-of-type {\n",
       "        vertical-align: middle;\n",
       "    }\n",
       "\n",
       "    .dataframe tbody tr th {\n",
       "        vertical-align: top;\n",
       "    }\n",
       "\n",
       "    .dataframe thead th {\n",
       "        text-align: right;\n",
       "    }\n",
       "</style>\n",
       "<table border=\"1\" class=\"dataframe\">\n",
       "  <thead>\n",
       "    <tr style=\"text-align: right;\">\n",
       "      <th></th>\n",
       "      <th>country</th>\n",
       "      <th>gdp_cap</th>\n",
       "    </tr>\n",
       "  </thead>\n",
       "  <tbody>\n",
       "    <tr>\n",
       "      <th>203</th>\n",
       "      <td>Burkina Faso</td>\n",
       "      <td>1217.032994</td>\n",
       "    </tr>\n",
       "    <tr>\n",
       "      <th>215</th>\n",
       "      <td>Burundi</td>\n",
       "      <td>430.070692</td>\n",
       "    </tr>\n",
       "    <tr>\n",
       "      <th>227</th>\n",
       "      <td>Cambodia</td>\n",
       "      <td>1713.778686</td>\n",
       "    </tr>\n",
       "    <tr>\n",
       "      <th>239</th>\n",
       "      <td>Cameroon</td>\n",
       "      <td>2042.095240</td>\n",
       "    </tr>\n",
       "    <tr>\n",
       "      <th>251</th>\n",
       "      <td>Canada</td>\n",
       "      <td>36319.235010</td>\n",
       "    </tr>\n",
       "    <tr>\n",
       "      <th>263</th>\n",
       "      <td>Central African Republic</td>\n",
       "      <td>706.016537</td>\n",
       "    </tr>\n",
       "    <tr>\n",
       "      <th>275</th>\n",
       "      <td>Chad</td>\n",
       "      <td>1704.063724</td>\n",
       "    </tr>\n",
       "    <tr>\n",
       "      <th>287</th>\n",
       "      <td>Chile</td>\n",
       "      <td>13171.638850</td>\n",
       "    </tr>\n",
       "    <tr>\n",
       "      <th>299</th>\n",
       "      <td>China</td>\n",
       "      <td>4959.114854</td>\n",
       "    </tr>\n",
       "  </tbody>\n",
       "</table>\n",
       "</div>"
      ],
      "text/plain": [
       "                      country       gdp_cap\n",
       "203              Burkina Faso   1217.032994\n",
       "215                   Burundi    430.070692\n",
       "227                  Cambodia   1713.778686\n",
       "239                  Cameroon   2042.095240\n",
       "251                    Canada  36319.235010\n",
       "263  Central African Republic    706.016537\n",
       "275                      Chad   1704.063724\n",
       "287                     Chile  13171.638850\n",
       "299                     China   4959.114854"
      ]
     },
     "execution_count": 8,
     "metadata": {},
     "output_type": "execute_result"
    }
   ],
   "source": [
    "# 2.d.\n",
    "df.loc[ 200:299, ['country','gdp_cap'] ]"
   ]
  },
  {
   "cell_type": "markdown",
   "id": "a74a5409-b54f-4da1-8abe-5f2ccd95c213",
   "metadata": {},
   "source": [
    "**Aufgabe 3. (2 Punkte)**, Schwierigkeit: ***\n",
    "\n",
    "3.a. In der gegebenen Matrix, das Produkt der Spaltenelemente berechnen.\n",
    "\n",
    "3.b. Ein Balkendiagramm (_horizontal bar chart_) mit den ps Daten erstellen.\n",
    "\n",
    "Optional / Challenge: Unterschiedliche Farben für Balken bestimmen.\n",
    "\n",
    "Lösungen:"
   ]
  },
  {
   "cell_type": "code",
   "execution_count": 9,
   "id": "fc4e37fb-c849-4610-bad5-3bd63217678e",
   "metadata": {},
   "outputs": [
    {
     "name": "stdout",
     "output_type": "stream",
     "text": [
      "[[9 7 8 6 4]\n",
      " [1 7 5 7 4]\n",
      " [9 2 5 4 5]]\n"
     ]
    },
    {
     "data": {
      "text/plain": [
       "array([ 81,  98, 200, 168,  80])"
      ]
     },
     "execution_count": 9,
     "metadata": {},
     "output_type": "execute_result"
    }
   ],
   "source": [
    "# 3.a.\n",
    "mat = np.random.randint(1,10,(3,5))\n",
    "print(mat)\n",
    "ps = np.prod(mat, axis=0)\n",
    "ps"
   ]
  },
  {
   "cell_type": "code",
   "execution_count": 19,
   "id": "8c9db9d2-b09d-4211-bb82-11331f7d476c",
   "metadata": {},
   "outputs": [
    {
     "data": {
      "image/png": "[encoded data removed]",
      "text/plain": [
       "<Figure size 640x480 with 1 Axes>"
      ]
     },
     "metadata": {},
     "output_type": "display_data"
    }
   ],
   "source": [
    "# 3.b.\n",
    "lbl = ['a','b','c','d','e']\n",
    "plt.barh(y=lbl, width=ps, color=list(\"rgbcm\") )\n",
    "plt.show()"
   ]
  },
  {
   "cell_type": "code",
   "execution_count": null,
   "id": "801cc198-b197-4fb8-85b9-af2f49324ff7",
   "metadata": {},
   "outputs": [],
   "source": []
  }
 ],
 "metadata": {
  "kernelspec": {
   "display_name": "Python 3 (ipykernel)",
   "language": "python",
   "name": "python3"
  },
  "language_info": {
   "codemirror_mode": {
    "name": "ipython",
    "version": 3
   },
   "file_extension": ".py",
   "mimetype": "text/x-python",
   "name": "python",
   "nbconvert_exporter": "python",
   "pygments_lexer": "ipython3",
   "version": "3.11.10"
  }
 },
 "nbformat": 4,
 "nbformat_minor": 5
}
